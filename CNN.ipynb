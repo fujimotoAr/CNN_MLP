{
 "cells": [
  {
   "cell_type": "markdown",
   "metadata": {},
   "source": [
    "Theofilus Arkhi Susanto\n",
    "19/439163/PA/18986\n",
    "\n",
    "Tugas 5 Replikasi CNN"
   ]
  },
  {
   "cell_type": "code",
   "execution_count": 1,
   "metadata": {},
   "outputs": [
    {
     "name": "stderr",
     "output_type": "stream",
     "text": [
      "2022-04-06 21:32:18.668128: W tensorflow/stream_executor/platform/default/dso_loader.cc:64] Could not load dynamic library 'libcudart.so.11.0'; dlerror: libcudart.so.11.0: cannot open shared object file: No such file or directory\n",
      "2022-04-06 21:32:18.668166: I tensorflow/stream_executor/cuda/cudart_stub.cc:29] Ignore above cudart dlerror if you do not have a GPU set up on your machine.\n"
     ]
    }
   ],
   "source": [
    "from sklearn import datasets\n",
    "from sklearn.model_selection import train_test_split\n",
    "import tensorflow as tf\n",
    "from tensorflow.keras.utils import to_categorical"
   ]
  },
  {
   "cell_type": "code",
   "execution_count": 2,
   "metadata": {},
   "outputs": [],
   "source": [
    "iris=datasets.load_iris()\n",
    "x=iris.data\n",
    "y=iris.target\n",
    "x_train, x_test, y_train, y_test = train_test_split(x, y, test_size=.10)\n",
    "x_train, x_val, y_train, y_val = train_test_split(x_train, y_train, test_size=.2)"
   ]
  },
  {
   "cell_type": "code",
   "execution_count": 3,
   "metadata": {},
   "outputs": [
    {
     "name": "stdout",
     "output_type": "stream",
     "text": [
      "training shape: (108, 4)\n",
      "val shape: \n",
      "test shape: \n"
     ]
    }
   ],
   "source": [
    "print(\"training shape: {}\".format(x_train.shape))\n",
    "print(\"val shape: \".format(x_val.shape))\n",
    "print(\"test shape: \".format(x_test.shape))"
   ]
  },
  {
   "cell_type": "code",
   "execution_count": 4,
   "metadata": {},
   "outputs": [],
   "source": [
    "y_train=to_categorical(y_train,3)\n",
    "y_val=to_categorical(y_val,3)\n",
    "y_test=to_categorical(y_test,3)"
   ]
  },
  {
   "cell_type": "code",
   "execution_count": 5,
   "metadata": {},
   "outputs": [
    {
     "name": "stderr",
     "output_type": "stream",
     "text": [
      "2022-04-06 21:32:22.277782: I tensorflow/stream_executor/cuda/cuda_gpu_executor.cc:936] successful NUMA node read from SysFS had negative value (-1), but there must be at least one NUMA node, so returning NUMA node zero\n",
      "2022-04-06 21:32:22.278293: W tensorflow/stream_executor/platform/default/dso_loader.cc:64] Could not load dynamic library 'libcudart.so.11.0'; dlerror: libcudart.so.11.0: cannot open shared object file: No such file or directory\n",
      "2022-04-06 21:32:22.278397: W tensorflow/stream_executor/platform/default/dso_loader.cc:64] Could not load dynamic library 'libcublas.so.11'; dlerror: libcublas.so.11: cannot open shared object file: No such file or directory\n",
      "2022-04-06 21:32:22.278489: W tensorflow/stream_executor/platform/default/dso_loader.cc:64] Could not load dynamic library 'libcublasLt.so.11'; dlerror: libcublasLt.so.11: cannot open shared object file: No such file or directory\n",
      "2022-04-06 21:32:22.278574: W tensorflow/stream_executor/platform/default/dso_loader.cc:64] Could not load dynamic library 'libcufft.so.10'; dlerror: libcufft.so.10: cannot open shared object file: No such file or directory\n",
      "2022-04-06 21:32:22.278659: W tensorflow/stream_executor/platform/default/dso_loader.cc:64] Could not load dynamic library 'libcurand.so.10'; dlerror: libcurand.so.10: cannot open shared object file: No such file or directory\n",
      "2022-04-06 21:32:22.278745: W tensorflow/stream_executor/platform/default/dso_loader.cc:64] Could not load dynamic library 'libcusolver.so.11'; dlerror: libcusolver.so.11: cannot open shared object file: No such file or directory\n",
      "2022-04-06 21:32:22.278828: W tensorflow/stream_executor/platform/default/dso_loader.cc:64] Could not load dynamic library 'libcusparse.so.11'; dlerror: libcusparse.so.11: cannot open shared object file: No such file or directory\n",
      "2022-04-06 21:32:22.278911: W tensorflow/stream_executor/platform/default/dso_loader.cc:64] Could not load dynamic library 'libcudnn.so.8'; dlerror: libcudnn.so.8: cannot open shared object file: No such file or directory\n",
      "2022-04-06 21:32:22.278927: W tensorflow/core/common_runtime/gpu/gpu_device.cc:1850] Cannot dlopen some GPU libraries. Please make sure the missing libraries mentioned above are installed properly if you would like to use GPU. Follow the guide at https://www.tensorflow.org/install/gpu for how to download and setup the required libraries for your platform.\n",
      "Skipping registering GPU devices...\n",
      "2022-04-06 21:32:22.279302: I tensorflow/core/platform/cpu_feature_guard.cc:151] This TensorFlow binary is optimized with oneAPI Deep Neural Network Library (oneDNN) to use the following CPU instructions in performance-critical operations:  AVX2 FMA\n",
      "To enable them in other operations, rebuild TensorFlow with the appropriate compiler flags.\n"
     ]
    },
    {
     "name": "stdout",
     "output_type": "stream",
     "text": [
      "Epoch 1/64\n",
      "22/22 [==============================] - 1s 18ms/step - loss: 1.1125 - accuracy: 0.3519 - val_loss: 1.0379 - val_accuracy: 0.3333\n",
      "Epoch 2/64\n",
      "22/22 [==============================] - 0s 5ms/step - loss: 0.9917 - accuracy: 0.4907 - val_loss: 0.9240 - val_accuracy: 0.6667\n",
      "Epoch 3/64\n",
      "22/22 [==============================] - 0s 5ms/step - loss: 0.8753 - accuracy: 0.6667 - val_loss: 0.8090 - val_accuracy: 0.6667\n",
      "Epoch 4/64\n",
      "22/22 [==============================] - 0s 5ms/step - loss: 0.7639 - accuracy: 0.7130 - val_loss: 0.6954 - val_accuracy: 0.7333\n",
      "Epoch 5/64\n",
      "22/22 [==============================] - 0s 4ms/step - loss: 0.6499 - accuracy: 0.7222 - val_loss: 0.5906 - val_accuracy: 0.6667\n",
      "Epoch 6/64\n",
      "22/22 [==============================] - 0s 4ms/step - loss: 0.5634 - accuracy: 0.7593 - val_loss: 0.5090 - val_accuracy: 0.8000\n",
      "Epoch 7/64\n",
      "22/22 [==============================] - 0s 4ms/step - loss: 0.4926 - accuracy: 0.8704 - val_loss: 0.4519 - val_accuracy: 0.8000\n",
      "Epoch 8/64\n",
      "22/22 [==============================] - 0s 4ms/step - loss: 0.4491 - accuracy: 0.8148 - val_loss: 0.4087 - val_accuracy: 0.9333\n",
      "Epoch 9/64\n",
      "22/22 [==============================] - 0s 4ms/step - loss: 0.4093 - accuracy: 0.9444 - val_loss: 0.3718 - val_accuracy: 1.0000\n",
      "Epoch 10/64\n",
      "22/22 [==============================] - 0s 4ms/step - loss: 0.3763 - accuracy: 0.9537 - val_loss: 0.3426 - val_accuracy: 1.0000\n",
      "Epoch 11/64\n",
      "22/22 [==============================] - 0s 4ms/step - loss: 0.3471 - accuracy: 0.9444 - val_loss: 0.3159 - val_accuracy: 1.0000\n",
      "Epoch 12/64\n",
      "22/22 [==============================] - 0s 4ms/step - loss: 0.3278 - accuracy: 0.9444 - val_loss: 0.2886 - val_accuracy: 1.0000\n",
      "Epoch 13/64\n",
      "22/22 [==============================] - 0s 4ms/step - loss: 0.3049 - accuracy: 0.9537 - val_loss: 0.2776 - val_accuracy: 1.0000\n",
      "Epoch 14/64\n",
      "22/22 [==============================] - 0s 4ms/step - loss: 0.2911 - accuracy: 0.9259 - val_loss: 0.2553 - val_accuracy: 1.0000\n",
      "Epoch 15/64\n",
      "22/22 [==============================] - 0s 4ms/step - loss: 0.2732 - accuracy: 0.9167 - val_loss: 0.2381 - val_accuracy: 0.9333\n",
      "Epoch 16/64\n",
      "22/22 [==============================] - 0s 4ms/step - loss: 0.2451 - accuracy: 0.9630 - val_loss: 0.2270 - val_accuracy: 1.0000\n",
      "Epoch 17/64\n",
      "22/22 [==============================] - 0s 4ms/step - loss: 0.2412 - accuracy: 0.9444 - val_loss: 0.2030 - val_accuracy: 1.0000\n",
      "Epoch 18/64\n",
      "22/22 [==============================] - 0s 4ms/step - loss: 0.2189 - accuracy: 0.9352 - val_loss: 0.1849 - val_accuracy: 1.0000\n",
      "Epoch 19/64\n",
      "22/22 [==============================] - 0s 3ms/step - loss: 0.2100 - accuracy: 0.9444 - val_loss: 0.1732 - val_accuracy: 1.0000\n",
      "Epoch 20/64\n",
      "22/22 [==============================] - 0s 3ms/step - loss: 0.2364 - accuracy: 0.9167 - val_loss: 0.1689 - val_accuracy: 1.0000\n",
      "Epoch 21/64\n",
      "22/22 [==============================] - 0s 3ms/step - loss: 0.2059 - accuracy: 0.9537 - val_loss: 0.1812 - val_accuracy: 1.0000\n",
      "Epoch 22/64\n",
      "22/22 [==============================] - 0s 5ms/step - loss: 0.1798 - accuracy: 0.9444 - val_loss: 0.1518 - val_accuracy: 1.0000\n",
      "Epoch 23/64\n",
      "22/22 [==============================] - 0s 5ms/step - loss: 0.1719 - accuracy: 0.9630 - val_loss: 0.1434 - val_accuracy: 1.0000\n",
      "Epoch 24/64\n",
      "22/22 [==============================] - 0s 4ms/step - loss: 0.1709 - accuracy: 0.9537 - val_loss: 0.1349 - val_accuracy: 1.0000\n",
      "Epoch 25/64\n",
      "22/22 [==============================] - 0s 4ms/step - loss: 0.1660 - accuracy: 0.9444 - val_loss: 0.1552 - val_accuracy: 1.0000\n",
      "Epoch 26/64\n",
      "22/22 [==============================] - 0s 4ms/step - loss: 0.1639 - accuracy: 0.9352 - val_loss: 0.1333 - val_accuracy: 0.9333\n",
      "Epoch 27/64\n",
      "22/22 [==============================] - 0s 4ms/step - loss: 0.1497 - accuracy: 0.9537 - val_loss: 0.1248 - val_accuracy: 1.0000\n",
      "Epoch 28/64\n",
      "22/22 [==============================] - 0s 4ms/step - loss: 0.1520 - accuracy: 0.9630 - val_loss: 0.1143 - val_accuracy: 1.0000\n",
      "Epoch 29/64\n",
      "22/22 [==============================] - 0s 10ms/step - loss: 0.1429 - accuracy: 0.9537 - val_loss: 0.1113 - val_accuracy: 1.0000\n",
      "Epoch 30/64\n",
      "22/22 [==============================] - 0s 3ms/step - loss: 0.1402 - accuracy: 0.9630 - val_loss: 0.1418 - val_accuracy: 0.9333\n",
      "Epoch 31/64\n",
      "22/22 [==============================] - 0s 3ms/step - loss: 0.1603 - accuracy: 0.9259 - val_loss: 0.1199 - val_accuracy: 0.9333\n",
      "Epoch 32/64\n",
      "22/22 [==============================] - 0s 3ms/step - loss: 0.1484 - accuracy: 0.9537 - val_loss: 0.0999 - val_accuracy: 1.0000\n",
      "Epoch 33/64\n",
      "22/22 [==============================] - 0s 4ms/step - loss: 0.1372 - accuracy: 0.9444 - val_loss: 0.0995 - val_accuracy: 1.0000\n",
      "Epoch 34/64\n",
      "22/22 [==============================] - 0s 4ms/step - loss: 0.1376 - accuracy: 0.9537 - val_loss: 0.0966 - val_accuracy: 1.0000\n",
      "Epoch 35/64\n",
      "22/22 [==============================] - 0s 4ms/step - loss: 0.1410 - accuracy: 0.9537 - val_loss: 0.0918 - val_accuracy: 1.0000\n",
      "Epoch 36/64\n",
      "22/22 [==============================] - 0s 4ms/step - loss: 0.1315 - accuracy: 0.9630 - val_loss: 0.0891 - val_accuracy: 1.0000\n",
      "Epoch 37/64\n",
      "22/22 [==============================] - 0s 4ms/step - loss: 0.1273 - accuracy: 0.9722 - val_loss: 0.0881 - val_accuracy: 1.0000\n",
      "Epoch 38/64\n",
      "22/22 [==============================] - 0s 4ms/step - loss: 0.1167 - accuracy: 0.9722 - val_loss: 0.1069 - val_accuracy: 0.9333\n",
      "Epoch 39/64\n",
      "22/22 [==============================] - 0s 4ms/step - loss: 0.1360 - accuracy: 0.9537 - val_loss: 0.0969 - val_accuracy: 1.0000\n",
      "Epoch 40/64\n",
      "22/22 [==============================] - 0s 4ms/step - loss: 0.1136 - accuracy: 0.9722 - val_loss: 0.0998 - val_accuracy: 0.9333\n",
      "Epoch 41/64\n",
      "22/22 [==============================] - 0s 4ms/step - loss: 0.1225 - accuracy: 0.9444 - val_loss: 0.0833 - val_accuracy: 1.0000\n",
      "Epoch 42/64\n",
      "22/22 [==============================] - 0s 3ms/step - loss: 0.1190 - accuracy: 0.9630 - val_loss: 0.0796 - val_accuracy: 1.0000\n",
      "Epoch 43/64\n",
      "22/22 [==============================] - 0s 4ms/step - loss: 0.1205 - accuracy: 0.9722 - val_loss: 0.1089 - val_accuracy: 0.9333\n",
      "Epoch 44/64\n",
      "22/22 [==============================] - 0s 4ms/step - loss: 0.1187 - accuracy: 0.9630 - val_loss: 0.0908 - val_accuracy: 0.9333\n",
      "Epoch 45/64\n",
      "22/22 [==============================] - 0s 4ms/step - loss: 0.1090 - accuracy: 0.9630 - val_loss: 0.0827 - val_accuracy: 1.0000\n",
      "Epoch 46/64\n",
      "22/22 [==============================] - 0s 4ms/step - loss: 0.1249 - accuracy: 0.9352 - val_loss: 0.0797 - val_accuracy: 1.0000\n",
      "Epoch 47/64\n",
      "22/22 [==============================] - 0s 3ms/step - loss: 0.1140 - accuracy: 0.9630 - val_loss: 0.0765 - val_accuracy: 1.0000\n",
      "Epoch 48/64\n",
      "22/22 [==============================] - 0s 3ms/step - loss: 0.1112 - accuracy: 0.9352 - val_loss: 0.0829 - val_accuracy: 1.0000\n",
      "Epoch 49/64\n",
      "22/22 [==============================] - 0s 3ms/step - loss: 0.1070 - accuracy: 0.9722 - val_loss: 0.1073 - val_accuracy: 0.9333\n",
      "Epoch 50/64\n",
      "22/22 [==============================] - 0s 5ms/step - loss: 0.1186 - accuracy: 0.9444 - val_loss: 0.0780 - val_accuracy: 1.0000\n",
      "Epoch 51/64\n",
      "22/22 [==============================] - 0s 4ms/step - loss: 0.1083 - accuracy: 0.9630 - val_loss: 0.0787 - val_accuracy: 1.0000\n",
      "Epoch 52/64\n",
      "22/22 [==============================] - 0s 3ms/step - loss: 0.1161 - accuracy: 0.9444 - val_loss: 0.0659 - val_accuracy: 1.0000\n",
      "Epoch 53/64\n",
      "22/22 [==============================] - 0s 4ms/step - loss: 0.1070 - accuracy: 0.9630 - val_loss: 0.0849 - val_accuracy: 0.9333\n",
      "Epoch 54/64\n",
      "22/22 [==============================] - 0s 3ms/step - loss: 0.1067 - accuracy: 0.9537 - val_loss: 0.0948 - val_accuracy: 0.9333\n",
      "Epoch 55/64\n",
      "22/22 [==============================] - 0s 3ms/step - loss: 0.1219 - accuracy: 0.9444 - val_loss: 0.0742 - val_accuracy: 1.0000\n",
      "Epoch 56/64\n",
      "22/22 [==============================] - 0s 3ms/step - loss: 0.0995 - accuracy: 0.9722 - val_loss: 0.0798 - val_accuracy: 0.9333\n",
      "Epoch 57/64\n",
      "22/22 [==============================] - 0s 4ms/step - loss: 0.1067 - accuracy: 0.9352 - val_loss: 0.0686 - val_accuracy: 1.0000\n",
      "Epoch 58/64\n",
      "22/22 [==============================] - 0s 3ms/step - loss: 0.1164 - accuracy: 0.9444 - val_loss: 0.0637 - val_accuracy: 1.0000\n",
      "Epoch 59/64\n",
      "22/22 [==============================] - 0s 3ms/step - loss: 0.1008 - accuracy: 0.9630 - val_loss: 0.0625 - val_accuracy: 1.0000\n",
      "Epoch 60/64\n",
      "22/22 [==============================] - 0s 4ms/step - loss: 0.0981 - accuracy: 0.9444 - val_loss: 0.0559 - val_accuracy: 1.0000\n",
      "Epoch 61/64\n",
      "22/22 [==============================] - 0s 3ms/step - loss: 0.1014 - accuracy: 0.9722 - val_loss: 0.0665 - val_accuracy: 1.0000\n",
      "Epoch 62/64\n",
      "22/22 [==============================] - 0s 3ms/step - loss: 0.1107 - accuracy: 0.9537 - val_loss: 0.1251 - val_accuracy: 0.9333\n",
      "Epoch 63/64\n",
      "22/22 [==============================] - 0s 3ms/step - loss: 0.1190 - accuracy: 0.9537 - val_loss: 0.0887 - val_accuracy: 0.9333\n",
      "Epoch 64/64\n",
      "22/22 [==============================] - 0s 3ms/step - loss: 0.1297 - accuracy: 0.9259 - val_loss: 0.0551 - val_accuracy: 1.0000\n",
      "Model: \"sequential\"\n",
      "_________________________________________________________________\n",
      " Layer (type)                Output Shape              Param #   \n",
      "=================================================================\n",
      " conv1d (Conv1D)             (None, 2, 32)             128       \n",
      "                                                                 \n",
      " max_pooling1d (MaxPooling1D  (None, 1, 32)            0         \n",
      " )                                                               \n",
      "                                                                 \n",
      " flatten (Flatten)           (None, 32)                0         \n",
      "                                                                 \n",
      " dense (Dense)               (None, 64)                2112      \n",
      "                                                                 \n",
      " dense_1 (Dense)             (None, 3)                 195       \n",
      "                                                                 \n",
      "=================================================================\n",
      "Total params: 2,435\n",
      "Trainable params: 2,435\n",
      "Non-trainable params: 0\n",
      "_________________________________________________________________\n"
     ]
    }
   ],
   "source": [
    "model=tf.keras.Sequential([\n",
    "    tf.keras.layers.Conv1D(32,(3),activation='relu',input_shape=(4,1)),\n",
    "    tf.keras.layers.MaxPooling1D((2)),\n",
    "    tf.keras.layers.Flatten(),\n",
    "    tf.keras.layers.Dense(64,activation='relu'),\n",
    "    tf.keras.layers.Dense(3,activation='softmax')\n",
    "])\n",
    "\n",
    "model.compile(\n",
    "    optimizer='adam',\n",
    "    loss='categorical_crossentropy',\n",
    "    metrics=['accuracy']\n",
    ")\n",
    "model.fit(\n",
    "    x_train,\n",
    "    y_train,\n",
    "    epochs=64,\n",
    "    batch_size=5,\n",
    "    verbose=1,\n",
    "    validation_data=(x_test,y_test)\n",
    ")\n",
    "model.summary()"
   ]
  },
  {
   "cell_type": "code",
   "execution_count": 6,
   "metadata": {},
   "outputs": [
    {
     "name": "stdout",
     "output_type": "stream",
     "text": [
      "1/1 [==============================] - 0s 223ms/step - loss: 0.0551 - accuracy: 1.0000\n",
      "Akurasi Testing CNN: 1.0\n"
     ]
    }
   ],
   "source": [
    "loss,accuracy=model.evaluate(x_test,y_test)\n",
    "print('Akurasi Testing CNN: {}'.format(accuracy))"
   ]
  }
 ],
 "metadata": {
  "interpreter": {
   "hash": "916dbcbb3f70747c44a77c7bcd40155683ae19c65e1c03b4aa3499c5328201f1"
  },
  "kernelspec": {
   "display_name": "Python 3.8.10 64-bit",
   "language": "python",
   "name": "python3"
  },
  "language_info": {
   "codemirror_mode": {
    "name": "ipython",
    "version": 3
   },
   "file_extension": ".py",
   "mimetype": "text/x-python",
   "name": "python",
   "nbconvert_exporter": "python",
   "pygments_lexer": "ipython3",
   "version": "3.8.10"
  },
  "orig_nbformat": 4
 },
 "nbformat": 4,
 "nbformat_minor": 2
}
