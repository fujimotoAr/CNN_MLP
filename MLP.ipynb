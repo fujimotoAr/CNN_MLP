{
 "cells": [
  {
   "cell_type": "markdown",
   "metadata": {},
   "source": [
    "Theofilus Arkhi Susanto\n",
    "19/439163/PA/18986\n",
    "\n",
    "Tugas 5 Replikasi MLP"
   ]
  },
  {
   "cell_type": "code",
   "execution_count": 19,
   "metadata": {},
   "outputs": [],
   "source": [
    "from sklearn import datasets\n",
    "from sklearn.model_selection import train_test_split\n",
    "import tensorflow as tf\n",
    "from tensorflow.keras.utils import to_categorical"
   ]
  },
  {
   "cell_type": "code",
   "execution_count": 7,
   "metadata": {},
   "outputs": [],
   "source": [
    "iris=datasets.load_iris()\n",
    "x=iris.data\n",
    "y=iris.target\n",
    "x_train, x_test, y_train, y_test = train_test_split(x, y, test_size=.10)\n",
    "x_train, x_val, y_train, y_val = train_test_split(x_train, y_train, test_size=.2)"
   ]
  },
  {
   "cell_type": "code",
   "execution_count": 8,
   "metadata": {},
   "outputs": [
    {
     "name": "stdout",
     "output_type": "stream",
     "text": [
      "training shape: (108, 4)\n",
      "val shape: \n",
      "test shape: \n"
     ]
    }
   ],
   "source": [
    "print(\"training shape: {}\".format(x_train.shape))\n",
    "print(\"val shape: \".format(x_val.shape))\n",
    "print(\"test shape: \".format(x_test.shape))"
   ]
  },
  {
   "cell_type": "code",
   "execution_count": 11,
   "metadata": {},
   "outputs": [],
   "source": [
    "y_train=to_categorical(y_train,3)\n",
    "y_val=to_categorical(y_val,3)\n",
    "y_test=to_categorical(y_test,3)"
   ]
  },
  {
   "cell_type": "code",
   "execution_count": 17,
   "metadata": {},
   "outputs": [
    {
     "name": "stdout",
     "output_type": "stream",
     "text": [
      "Epoch 1/64\n"
     ]
    },
    {
     "name": "stderr",
     "output_type": "stream",
     "text": [
      "2022-04-06 21:03:38.000017: I tensorflow/stream_executor/cuda/cuda_gpu_executor.cc:936] successful NUMA node read from SysFS had negative value (-1), but there must be at least one NUMA node, so returning NUMA node zero\n",
      "2022-04-06 21:03:38.000527: W tensorflow/stream_executor/platform/default/dso_loader.cc:64] Could not load dynamic library 'libcudart.so.11.0'; dlerror: libcudart.so.11.0: cannot open shared object file: No such file or directory\n",
      "2022-04-06 21:03:38.000650: W tensorflow/stream_executor/platform/default/dso_loader.cc:64] Could not load dynamic library 'libcublas.so.11'; dlerror: libcublas.so.11: cannot open shared object file: No such file or directory\n",
      "2022-04-06 21:03:38.000758: W tensorflow/stream_executor/platform/default/dso_loader.cc:64] Could not load dynamic library 'libcublasLt.so.11'; dlerror: libcublasLt.so.11: cannot open shared object file: No such file or directory\n",
      "2022-04-06 21:03:38.000861: W tensorflow/stream_executor/platform/default/dso_loader.cc:64] Could not load dynamic library 'libcufft.so.10'; dlerror: libcufft.so.10: cannot open shared object file: No such file or directory\n",
      "2022-04-06 21:03:38.000962: W tensorflow/stream_executor/platform/default/dso_loader.cc:64] Could not load dynamic library 'libcurand.so.10'; dlerror: libcurand.so.10: cannot open shared object file: No such file or directory\n",
      "2022-04-06 21:03:38.001065: W tensorflow/stream_executor/platform/default/dso_loader.cc:64] Could not load dynamic library 'libcusolver.so.11'; dlerror: libcusolver.so.11: cannot open shared object file: No such file or directory\n",
      "2022-04-06 21:03:38.001167: W tensorflow/stream_executor/platform/default/dso_loader.cc:64] Could not load dynamic library 'libcusparse.so.11'; dlerror: libcusparse.so.11: cannot open shared object file: No such file or directory\n",
      "2022-04-06 21:03:38.001270: W tensorflow/stream_executor/platform/default/dso_loader.cc:64] Could not load dynamic library 'libcudnn.so.8'; dlerror: libcudnn.so.8: cannot open shared object file: No such file or directory\n",
      "2022-04-06 21:03:38.001287: W tensorflow/core/common_runtime/gpu/gpu_device.cc:1850] Cannot dlopen some GPU libraries. Please make sure the missing libraries mentioned above are installed properly if you would like to use GPU. Follow the guide at https://www.tensorflow.org/install/gpu for how to download and setup the required libraries for your platform.\n",
      "Skipping registering GPU devices...\n",
      "2022-04-06 21:03:38.002547: I tensorflow/core/platform/cpu_feature_guard.cc:151] This TensorFlow binary is optimized with oneAPI Deep Neural Network Library (oneDNN) to use the following CPU instructions in performance-critical operations:  AVX2 FMA\n",
      "To enable them in other operations, rebuild TensorFlow with the appropriate compiler flags.\n"
     ]
    },
    {
     "name": "stdout",
     "output_type": "stream",
     "text": [
      "22/22 [==============================] - 1s 14ms/step - loss: 1.0591 - accuracy: 0.5648 - val_loss: 0.8098 - val_accuracy: 0.8667\n",
      "Epoch 2/64\n",
      "22/22 [==============================] - 0s 3ms/step - loss: 0.8267 - accuracy: 0.6574 - val_loss: 0.7515 - val_accuracy: 0.6667\n",
      "Epoch 3/64\n",
      "22/22 [==============================] - 0s 3ms/step - loss: 0.7573 - accuracy: 0.7037 - val_loss: 0.6573 - val_accuracy: 0.6667\n",
      "Epoch 4/64\n",
      "22/22 [==============================] - 0s 3ms/step - loss: 0.6842 - accuracy: 0.6574 - val_loss: 0.6055 - val_accuracy: 0.6667\n",
      "Epoch 5/64\n",
      "22/22 [==============================] - 0s 3ms/step - loss: 0.6417 - accuracy: 0.6667 - val_loss: 0.5346 - val_accuracy: 0.8667\n",
      "Epoch 6/64\n",
      "22/22 [==============================] - 0s 3ms/step - loss: 0.5978 - accuracy: 0.8148 - val_loss: 0.4863 - val_accuracy: 0.8667\n",
      "Epoch 7/64\n",
      "22/22 [==============================] - 0s 3ms/step - loss: 0.5731 - accuracy: 0.8426 - val_loss: 0.4735 - val_accuracy: 0.6667\n",
      "Epoch 8/64\n",
      "22/22 [==============================] - 0s 3ms/step - loss: 0.5389 - accuracy: 0.8704 - val_loss: 0.4153 - val_accuracy: 0.9333\n",
      "Epoch 9/64\n",
      "22/22 [==============================] - 0s 3ms/step - loss: 0.5184 - accuracy: 0.7222 - val_loss: 0.3950 - val_accuracy: 0.9333\n",
      "Epoch 10/64\n",
      "22/22 [==============================] - 0s 3ms/step - loss: 0.4886 - accuracy: 0.8611 - val_loss: 0.3644 - val_accuracy: 0.9333\n",
      "Epoch 11/64\n",
      "22/22 [==============================] - 0s 3ms/step - loss: 0.4683 - accuracy: 0.9167 - val_loss: 0.3575 - val_accuracy: 0.9333\n",
      "Epoch 12/64\n",
      "22/22 [==============================] - 0s 3ms/step - loss: 0.4521 - accuracy: 0.9444 - val_loss: 0.3437 - val_accuracy: 0.9333\n",
      "Epoch 13/64\n",
      "22/22 [==============================] - 0s 3ms/step - loss: 0.4423 - accuracy: 0.7500 - val_loss: 0.3198 - val_accuracy: 0.9333\n",
      "Epoch 14/64\n",
      "22/22 [==============================] - 0s 3ms/step - loss: 0.4213 - accuracy: 0.9630 - val_loss: 0.2960 - val_accuracy: 0.9333\n",
      "Epoch 15/64\n",
      "22/22 [==============================] - 0s 3ms/step - loss: 0.4009 - accuracy: 0.9352 - val_loss: 0.3084 - val_accuracy: 0.9333\n",
      "Epoch 16/64\n",
      "22/22 [==============================] - 0s 3ms/step - loss: 0.3869 - accuracy: 0.9630 - val_loss: 0.2760 - val_accuracy: 0.9333\n",
      "Epoch 17/64\n",
      "22/22 [==============================] - 0s 3ms/step - loss: 0.3736 - accuracy: 0.9722 - val_loss: 0.2704 - val_accuracy: 0.9333\n",
      "Epoch 18/64\n",
      "22/22 [==============================] - 0s 4ms/step - loss: 0.3651 - accuracy: 0.9630 - val_loss: 0.2582 - val_accuracy: 0.9333\n",
      "Epoch 19/64\n",
      "22/22 [==============================] - 0s 4ms/step - loss: 0.3532 - accuracy: 0.9167 - val_loss: 0.2470 - val_accuracy: 0.9333\n",
      "Epoch 20/64\n",
      "22/22 [==============================] - 0s 3ms/step - loss: 0.3347 - accuracy: 0.9722 - val_loss: 0.2395 - val_accuracy: 0.9333\n",
      "Epoch 21/64\n",
      "22/22 [==============================] - 0s 3ms/step - loss: 0.3325 - accuracy: 0.9537 - val_loss: 0.2372 - val_accuracy: 0.9333\n",
      "Epoch 22/64\n",
      "22/22 [==============================] - 0s 5ms/step - loss: 0.3144 - accuracy: 0.9815 - val_loss: 0.2163 - val_accuracy: 0.9333\n",
      "Epoch 23/64\n",
      "22/22 [==============================] - 0s 4ms/step - loss: 0.3011 - accuracy: 0.9815 - val_loss: 0.2159 - val_accuracy: 0.9333\n",
      "Epoch 24/64\n",
      "22/22 [==============================] - 0s 4ms/step - loss: 0.3010 - accuracy: 0.9722 - val_loss: 0.2319 - val_accuracy: 0.9333\n",
      "Epoch 25/64\n",
      "22/22 [==============================] - 0s 3ms/step - loss: 0.2874 - accuracy: 0.9722 - val_loss: 0.2047 - val_accuracy: 0.9333\n",
      "Epoch 26/64\n",
      "22/22 [==============================] - 0s 3ms/step - loss: 0.2766 - accuracy: 0.9722 - val_loss: 0.1989 - val_accuracy: 0.9333\n",
      "Epoch 27/64\n",
      "22/22 [==============================] - 0s 3ms/step - loss: 0.2655 - accuracy: 0.9815 - val_loss: 0.1933 - val_accuracy: 0.9333\n",
      "Epoch 28/64\n",
      "22/22 [==============================] - 0s 3ms/step - loss: 0.2646 - accuracy: 0.9722 - val_loss: 0.1503 - val_accuracy: 0.9333\n",
      "Epoch 29/64\n",
      "22/22 [==============================] - 0s 3ms/step - loss: 0.2576 - accuracy: 0.9537 - val_loss: 0.1833 - val_accuracy: 0.9333\n",
      "Epoch 30/64\n",
      "22/22 [==============================] - 0s 4ms/step - loss: 0.2424 - accuracy: 0.9815 - val_loss: 0.1599 - val_accuracy: 0.9333\n",
      "Epoch 31/64\n",
      "22/22 [==============================] - 0s 3ms/step - loss: 0.2373 - accuracy: 0.9722 - val_loss: 0.1629 - val_accuracy: 0.9333\n",
      "Epoch 32/64\n",
      "22/22 [==============================] - 0s 3ms/step - loss: 0.2324 - accuracy: 0.9722 - val_loss: 0.1871 - val_accuracy: 0.9333\n",
      "Epoch 33/64\n",
      "22/22 [==============================] - 0s 3ms/step - loss: 0.2151 - accuracy: 0.9815 - val_loss: 0.1400 - val_accuracy: 0.9333\n",
      "Epoch 34/64\n",
      "22/22 [==============================] - 0s 3ms/step - loss: 0.2146 - accuracy: 0.9815 - val_loss: 0.1621 - val_accuracy: 0.9333\n",
      "Epoch 35/64\n",
      "22/22 [==============================] - 0s 3ms/step - loss: 0.2100 - accuracy: 0.9815 - val_loss: 0.1398 - val_accuracy: 0.9333\n",
      "Epoch 36/64\n",
      "22/22 [==============================] - 0s 3ms/step - loss: 0.2034 - accuracy: 0.9722 - val_loss: 0.1623 - val_accuracy: 0.9333\n",
      "Epoch 37/64\n",
      "22/22 [==============================] - 0s 3ms/step - loss: 0.1935 - accuracy: 0.9815 - val_loss: 0.1296 - val_accuracy: 0.9333\n",
      "Epoch 38/64\n",
      "22/22 [==============================] - 0s 3ms/step - loss: 0.1940 - accuracy: 0.9722 - val_loss: 0.1506 - val_accuracy: 0.9333\n",
      "Epoch 39/64\n",
      "22/22 [==============================] - 0s 3ms/step - loss: 0.1895 - accuracy: 0.9815 - val_loss: 0.1568 - val_accuracy: 0.9333\n",
      "Epoch 40/64\n",
      "22/22 [==============================] - 0s 3ms/step - loss: 0.1787 - accuracy: 0.9722 - val_loss: 0.1270 - val_accuracy: 0.9333\n",
      "Epoch 41/64\n",
      "22/22 [==============================] - 0s 3ms/step - loss: 0.1801 - accuracy: 0.9815 - val_loss: 0.1405 - val_accuracy: 0.9333\n",
      "Epoch 42/64\n",
      "22/22 [==============================] - 0s 3ms/step - loss: 0.1759 - accuracy: 0.9815 - val_loss: 0.1579 - val_accuracy: 0.9333\n",
      "Epoch 43/64\n",
      "22/22 [==============================] - 0s 3ms/step - loss: 0.1671 - accuracy: 0.9815 - val_loss: 0.1337 - val_accuracy: 0.9333\n",
      "Epoch 44/64\n",
      "22/22 [==============================] - 0s 3ms/step - loss: 0.1657 - accuracy: 0.9815 - val_loss: 0.1228 - val_accuracy: 0.9333\n",
      "Epoch 45/64\n",
      "22/22 [==============================] - 0s 3ms/step - loss: 0.1607 - accuracy: 0.9815 - val_loss: 0.1387 - val_accuracy: 0.9333\n",
      "Epoch 46/64\n",
      "22/22 [==============================] - 0s 3ms/step - loss: 0.1544 - accuracy: 0.9815 - val_loss: 0.1220 - val_accuracy: 0.9333\n",
      "Epoch 47/64\n",
      "22/22 [==============================] - 0s 3ms/step - loss: 0.1623 - accuracy: 0.9722 - val_loss: 0.1152 - val_accuracy: 0.9333\n",
      "Epoch 48/64\n",
      "22/22 [==============================] - 0s 3ms/step - loss: 0.1526 - accuracy: 0.9815 - val_loss: 0.1465 - val_accuracy: 0.9333\n",
      "Epoch 49/64\n",
      "22/22 [==============================] - 0s 3ms/step - loss: 0.1464 - accuracy: 0.9815 - val_loss: 0.1213 - val_accuracy: 0.9333\n",
      "Epoch 50/64\n",
      "22/22 [==============================] - 0s 3ms/step - loss: 0.1427 - accuracy: 0.9815 - val_loss: 0.1226 - val_accuracy: 0.9333\n",
      "Epoch 51/64\n",
      "22/22 [==============================] - 0s 3ms/step - loss: 0.1400 - accuracy: 0.9815 - val_loss: 0.1256 - val_accuracy: 0.9333\n",
      "Epoch 52/64\n",
      "22/22 [==============================] - 0s 3ms/step - loss: 0.1389 - accuracy: 1.0000 - val_loss: 0.1302 - val_accuracy: 0.9333\n",
      "Epoch 53/64\n",
      "22/22 [==============================] - 0s 3ms/step - loss: 0.1363 - accuracy: 0.9815 - val_loss: 0.1310 - val_accuracy: 0.9333\n",
      "Epoch 54/64\n",
      "22/22 [==============================] - 0s 3ms/step - loss: 0.1316 - accuracy: 0.9815 - val_loss: 0.1367 - val_accuracy: 0.9333\n",
      "Epoch 55/64\n",
      "22/22 [==============================] - 0s 3ms/step - loss: 0.1276 - accuracy: 0.9815 - val_loss: 0.1142 - val_accuracy: 0.9333\n",
      "Epoch 56/64\n",
      "22/22 [==============================] - 0s 3ms/step - loss: 0.1296 - accuracy: 0.9722 - val_loss: 0.1321 - val_accuracy: 0.9333\n",
      "Epoch 57/64\n",
      "22/22 [==============================] - 0s 3ms/step - loss: 0.1252 - accuracy: 0.9815 - val_loss: 0.1183 - val_accuracy: 0.9333\n",
      "Epoch 58/64\n",
      "22/22 [==============================] - 0s 3ms/step - loss: 0.1232 - accuracy: 0.9815 - val_loss: 0.1437 - val_accuracy: 0.9333\n",
      "Epoch 59/64\n",
      "22/22 [==============================] - 0s 3ms/step - loss: 0.1196 - accuracy: 0.9815 - val_loss: 0.1261 - val_accuracy: 0.9333\n",
      "Epoch 60/64\n",
      "22/22 [==============================] - 0s 3ms/step - loss: 0.1188 - accuracy: 0.9815 - val_loss: 0.1232 - val_accuracy: 0.9333\n",
      "Epoch 61/64\n",
      "22/22 [==============================] - 0s 3ms/step - loss: 0.1159 - accuracy: 0.9815 - val_loss: 0.1206 - val_accuracy: 0.9333\n",
      "Epoch 62/64\n",
      "22/22 [==============================] - 0s 4ms/step - loss: 0.1188 - accuracy: 0.9815 - val_loss: 0.1558 - val_accuracy: 0.9333\n",
      "Epoch 63/64\n",
      "22/22 [==============================] - 0s 3ms/step - loss: 0.1156 - accuracy: 0.9815 - val_loss: 0.1318 - val_accuracy: 0.9333\n",
      "Epoch 64/64\n",
      "22/22 [==============================] - 0s 3ms/step - loss: 0.1114 - accuracy: 0.9815 - val_loss: 0.1112 - val_accuracy: 0.9333\n",
      "Model: \"sequential\"\n",
      "_________________________________________________________________\n",
      " Layer (type)                Output Shape              Param #   \n",
      "=================================================================\n",
      " flatten_2 (Flatten)         (None, 4)                 0         \n",
      "                                                                 \n",
      " dense_4 (Dense)             (None, 64)                320       \n",
      "                                                                 \n",
      " dense_5 (Dense)             (None, 3)                 195       \n",
      "                                                                 \n",
      "=================================================================\n",
      "Total params: 515\n",
      "Trainable params: 515\n",
      "Non-trainable params: 0\n",
      "_________________________________________________________________\n"
     ]
    }
   ],
   "source": [
    "model=tf.keras.Sequential([\n",
    "    tf.keras.layers.Flatten(),\n",
    "    tf.keras.layers.Dense(64,activation='relu'),\n",
    "    tf.keras.layers.Dense(3,activation='softmax')\n",
    "])\n",
    "\n",
    "model.compile(\n",
    "    optimizer='adam',\n",
    "    loss='categorical_crossentropy',\n",
    "    metrics=['accuracy']\n",
    ")\n",
    "model.fit(\n",
    "    x_train,\n",
    "    y_train,\n",
    "    epochs=64,\n",
    "    batch_size=5,\n",
    "    verbose=1,\n",
    "    validation_data=(x_test,y_test)\n",
    ")\n",
    "model.summary()"
   ]
  },
  {
   "cell_type": "code",
   "execution_count": 18,
   "metadata": {},
   "outputs": [
    {
     "name": "stdout",
     "output_type": "stream",
     "text": [
      "1/1 [==============================] - 0s 174ms/step - loss: 0.1112 - accuracy: 0.9333\n",
      "Akurasi Testing MLP: 0.9333333373069763\n"
     ]
    }
   ],
   "source": [
    "loss,accuracy=model.evaluate(x_test,y_test)\n",
    "print('Akurasi Testing MLP: {}'.format(accuracy))"
   ]
  }
 ],
 "metadata": {
  "interpreter": {
   "hash": "916dbcbb3f70747c44a77c7bcd40155683ae19c65e1c03b4aa3499c5328201f1"
  },
  "kernelspec": {
   "display_name": "Python 3.8.10 64-bit",
   "language": "python",
   "name": "python3"
  },
  "language_info": {
   "codemirror_mode": {
    "name": "ipython",
    "version": 3
   },
   "file_extension": ".py",
   "mimetype": "text/x-python",
   "name": "python",
   "nbconvert_exporter": "python",
   "pygments_lexer": "ipython3",
   "version": "3.8.10"
  },
  "orig_nbformat": 4
 },
 "nbformat": 4,
 "nbformat_minor": 2
}
